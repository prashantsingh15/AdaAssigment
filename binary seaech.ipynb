{
 "cells": [
  {
   "cell_type": "code",
   "execution_count": 2,
   "id": "fba543e5",
   "metadata": {},
   "outputs": [],
   "source": [
    "def binary_search_iterative(arr, x):\n",
    "    \n",
    "    left, right = 0, len(arr) - 1\n",
    "    while left <= right:\n",
    "        mid = (left + right) // 2\n",
    "        if arr[mid] == x:\n",
    "            return mid\n",
    "        elif arr[mid] < x:\n",
    "            left = mid + 1\n",
    "        else:\n",
    "            right = mid - 1\n",
    "    return -1\n",
    "\n",
    "\n",
    "def binary_search_recursive(arr, x, left, right):\n",
    "   \n",
    "    if left > right:\n",
    "        return -1\n",
    "    mid = (left + right) // 2\n",
    "    if arr[mid] == x:\n",
    "        return mid\n",
    "    elif arr[mid] < x:\n",
    "        return binary_search_recursive(arr, x, mid + 1, right)\n",
    "    else:\n",
    "        return binary_search_recursive(arr, x, left, mid - 1)\n"
   ]
  },
  {
   "cell_type": "code",
   "execution_count": 3,
   "id": "7abaddc9",
   "metadata": {},
   "outputs": [
    {
     "name": "stdout",
     "output_type": "stream",
     "text": [
      "Element 7 is present at index 6\n",
      "Element 7 is present at index 6\n"
     ]
    }
   ],
   "source": [
    "arr = [1, 2, 3, 4, 5, 6, 7, 8, 9, 10]\n",
    "x = 7\n",
    "\n",
    "\n",
    "result = binary_search_iterative(arr, x)\n",
    "if result != -1:\n",
    "    print(f\"Element {x} is present at index {result}\")\n",
    "else:\n",
    "    print(f\"Element {x} is not present in the array\")\n",
    "\n",
    "result = binary_search_recursive(arr, x, 0, len(arr) - 1)\n",
    "if result != -1:\n",
    "    print(f\"Element {x} is present at index {result}\")\n",
    "else:\n",
    "    print(f\"Element {x} is not present in the array\")\n"
   ]
  }
 ],
 "metadata": {
  "kernelspec": {
   "display_name": "Python 3 (ipykernel)",
   "language": "python",
   "name": "python3"
  },
  "language_info": {
   "codemirror_mode": {
    "name": "ipython",
    "version": 3
   },
   "file_extension": ".py",
   "mimetype": "text/x-python",
   "name": "python",
   "nbconvert_exporter": "python",
   "pygments_lexer": "ipython3",
   "version": "3.11.2"
  }
 },
 "nbformat": 4,
 "nbformat_minor": 5
}
