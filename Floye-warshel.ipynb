{
 "cells": [
  {
   "cell_type": "code",
   "execution_count": 1,
   "id": "91eaf752",
   "metadata": {},
   "outputs": [
    {
     "name": "stdout",
     "output_type": "stream",
     "text": [
      "[[0, 5, 8, 9], [inf, 0, 3, 4], [inf, inf, 0, 1], [inf, inf, inf, 0]]\n"
     ]
    }
   ],
   "source": [
    "def floyd_warshall(graph):\n",
    "    dist = graph\n",
    "    \n",
    "   \n",
    "    n = len(graph)\n",
    "    for k in range(n):\n",
    "        for i in range(n):\n",
    "            for j in range(n):\n",
    "                if dist[i][k] != float('inf') and dist[k][j] != float('inf'):\n",
    "                    dist[i][j] = min(dist[i][j], dist[i][k] + dist[k][j])\n",
    "    \n",
    "    return dist\n",
    "\n",
    "\n",
    "\n",
    "graph = [\n",
    "    [0, 5, float('inf'), 10],\n",
    "    [float('inf'), 0, 3, float('inf')],\n",
    "    [float('inf'), float('inf'), 0, 1],\n",
    "    [float('inf'), float('inf'), float('inf'), 0]\n",
    "]\n",
    "\n",
    "dist = floyd_warshall(graph)\n",
    "print(dist)\n"
   ]
  },
  {
   "cell_type": "code",
   "execution_count": null,
   "id": "4f7dd10f",
   "metadata": {},
   "outputs": [],
   "source": []
  }
 ],
 "metadata": {
  "kernelspec": {
   "display_name": "Python 3 (ipykernel)",
   "language": "python",
   "name": "python3"
  },
  "language_info": {
   "codemirror_mode": {
    "name": "ipython",
    "version": 3
   },
   "file_extension": ".py",
   "mimetype": "text/x-python",
   "name": "python",
   "nbconvert_exporter": "python",
   "pygments_lexer": "ipython3",
   "version": "3.11.2"
  }
 },
 "nbformat": 4,
 "nbformat_minor": 5
}
