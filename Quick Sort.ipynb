{
 "cells": [
  {
   "cell_type": "markdown",
   "id": "b8bbcc76",
   "metadata": {},
   "source": [
    "## write a program of Quick sort ?\n",
    "\n",
    "Theory -- The average time complexity of my code is O(n*log(n)) ,an the worst case will O(n^2) .The time complexity for this depends on various factor."
   ]
  },
  {
   "cell_type": "code",
   "execution_count": 1,
   "id": "f2c32f97",
   "metadata": {},
   "outputs": [
    {
     "name": "stdout",
     "output_type": "stream",
     "text": [
      "[2, 3, 4, 7, 8, 9, 10]\n"
     ]
    }
   ],
   "source": [
    "def quicksort(arr):\n",
    "    if len(arr) <= 1:\n",
    "        return arr\n",
    "\n",
    "   \n",
    "    pivot = arr[len(arr) // 2]\n",
    "\n",
    "    \n",
    "    left = [x for x in arr if x < pivot]\n",
    "    middle = [x for x in arr if x == pivot]\n",
    "    right = [x for x in arr if x > pivot]\n",
    "\n",
    "    \n",
    "    return quicksort(left) + middle + quicksort(right)\n",
    "\n",
    "\n",
    "arr = [8, 7, 4, 3, 9, 2, 10]\n",
    "sorted_arr = quicksort(arr)\n",
    "print(sorted_arr)"
   ]
  }
 ],
 "metadata": {
  "kernelspec": {
   "display_name": "Python 3 (ipykernel)",
   "language": "python",
   "name": "python3"
  },
  "language_info": {
   "codemirror_mode": {
    "name": "ipython",
    "version": 3
   },
   "file_extension": ".py",
   "mimetype": "text/x-python",
   "name": "python",
   "nbconvert_exporter": "python",
   "pygments_lexer": "ipython3",
   "version": "3.11.2"
  }
 },
 "nbformat": 4,
 "nbformat_minor": 5
}
