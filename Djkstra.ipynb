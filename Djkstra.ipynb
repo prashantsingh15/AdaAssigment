{
 "cells": [
  {
   "cell_type": "code",
   "execution_count": 2,
   "id": "a277cc57",
   "metadata": {},
   "outputs": [
    {
     "name": "stdout",
     "output_type": "stream",
     "text": [
      "{'A': 0, 'B': 2, 'C': 1, 'D': 7, 'E': 5}\n"
     ]
    }
   ],
   "source": [
    "import heapq\n",
    "\n",
    "def dijkstra(graph, start):\n",
    "   \n",
    "    distances = {node: float('inf') for node in graph}\n",
    "    distances[start] = 0\n",
    "    \n",
    "   \n",
    "    heap = [(0, start)]\n",
    "    \n",
    "    while heap:\n",
    "        \n",
    "        (current_distance, current_node) = heapq.heappop(heap)\n",
    "        \n",
    "        \n",
    "        if current_distance > distances[current_node]:\n",
    "            continue\n",
    "        \n",
    "       \n",
    "        for neighbor, weight in graph[current_node].items():\n",
    "            distance = current_distance + weight\n",
    "            if distance < distances[neighbor]:\n",
    "                distances[neighbor] = distance\n",
    "                heapq.heappush(heap, (distance, neighbor))\n",
    "    \n",
    "    return distances\n",
    "\n",
    "\n",
    "\n",
    "graph = {\n",
    "    'A': {'B': 2, 'C': 1},\n",
    "    'B': {'D': 5, 'E': 3},\n",
    "    'C': {'E': 4},\n",
    "    'D': {},\n",
    "    'E': {'D': 2},\n",
    "}\n",
    "\n",
    "distances = dijkstra(graph, 'A')\n",
    "print(distances)\n"
   ]
  }
 ],
 "metadata": {
  "kernelspec": {
   "display_name": "Python 3 (ipykernel)",
   "language": "python",
   "name": "python3"
  },
  "language_info": {
   "codemirror_mode": {
    "name": "ipython",
    "version": 3
   },
   "file_extension": ".py",
   "mimetype": "text/x-python",
   "name": "python",
   "nbconvert_exporter": "python",
   "pygments_lexer": "ipython3",
   "version": "3.11.2"
  }
 },
 "nbformat": 4,
 "nbformat_minor": 5
}
