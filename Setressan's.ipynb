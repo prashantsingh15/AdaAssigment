{
 "cells": [
  {
   "cell_type": "markdown",
   "id": "2be55727",
   "metadata": {},
   "source": [
    "Write a program for Strassen's Matrix Multiplication ?\n",
    "Theory -- The time complexity of my code is O(n^log2(7))."
   ]
  },
  {
   "cell_type": "code",
   "execution_count": 1,
   "id": "457971a7",
   "metadata": {},
   "outputs": [],
   "source": [
    "def matrix_multiply_strassen(A, B):\n",
    "    \n",
    "    assert len(A[0]) == len(B)\n",
    "\n",
    "   \n",
    "    if len(A) == 1:\n",
    "        return [[A[0][0] * B[0][0]]]\n",
    "\n",
    "    \n",
    "    n = len(A)\n",
    "    m = n // 2\n",
    "    A11 = [row[:m] for row in A[:m]]\n",
    "    A12 = [row[m:] for row in A[:m]]\n",
    "    A21 = [row[:m] for row in A[m:]]\n",
    "    A22 = [row[m:] for row in A[m:]]\n",
    "    B11 = [row[:m] for row in B[:m]]\n",
    "    B12 = [row[m:] for row in B[:m]]\n",
    "    B21 = [row[:m] for row in B[m:]]\n",
    "    B22 = [row[m:] for row in B[m:]]\n",
    "\n",
    "    \n",
    "    M1 = matrix_multiply_strassen(add_matrices(A11, A22), add_matrices(B11, B22))\n",
    "    M2 = matrix_multiply_strassen(add_matrices(A21, A22), B11)\n",
    "    M3 = matrix_multiply_strassen(A11, subtract_matrices(B12, B22))\n",
    "    M4 = matrix_multiply_strassen(A22, subtract_matrices(B21, B11))\n",
    "    M5 = matrix_multiply_strassen(add_matrices(A11, A12), B22)\n",
    "    M6 = matrix_multiply_strassen(subtract_matrices(A21, A11), add_matrices(B11, B12))\n",
    "    M7 = matrix_multiply_strassen(subtract_matrices(A12, A22), add_matrices(B21, B22))\n",
    "\n",
    "    \n",
    "    C11 = subtract_matrices(add_matrices(add_matrices(M1, M4), M7), M5)\n",
    "    C12 = add_matrices(M3, M5)\n",
    "    C21 = add_matrices(M2, M4)\n",
    "    C22 = subtract_matrices(add_matrices(add_matrices(M1, M3), M6), M2)\n",
    "\n",
    "   \n",
    "    C = [[0 for j in range(n)] for i in range(n)]\n",
    "    for i in range(m):\n",
    "        for j in range(m):\n",
    "            C[i][j] = C11[i][j]\n",
    "            C[i][j+m] = C12[i][j]\n",
    "            C[i+m][j] = C21[i][j]\n",
    "            C[i+m][j+m] = C22[i][j]\n",
    "\n",
    "    return C\n",
    "\n",
    "def add_matrices(A, B):\n",
    "    return [[A[i][j] + B[i][j] for j in range(len(A[0]))] for i in range(len(A))]\n",
    "\n",
    "def subtract_matrices(A, B):\n",
    "    return [[A[i][j] - B[i][j] for j in range(len(A[0]))] for i in range(len(A))]\n",
    "\n",
    "# Example\n",
    "A = [[1, 2, 3, 4], [5, 6, 7, 8], [9, 10, 11, 12], [13, 14, 15, 16]]\n",
    "B = [[16, 15, 14, 13], [12, 11, 10, 9], [8, 7, 6, 5], [4, 3, 2, 1]]\n",
    "C = matrix_multiply_strassen(A, B)"
   ]
  },
  {
   "cell_type": "code",
   "execution_count": 2,
   "id": "68db3bd2",
   "metadata": {},
   "outputs": [
    {
     "data": {
      "text/plain": [
       "[[80, 70, 60, 50],\n",
       " [240, 214, 188, 162],\n",
       " [400, 358, 316, 274],\n",
       " [560, 502, 444, 386]]"
      ]
     },
     "execution_count": 2,
     "metadata": {},
     "output_type": "execute_result"
    }
   ],
   "source": [
    "C"
   ]
  }
 ],
 "metadata": {
  "kernelspec": {
   "display_name": "Python 3 (ipykernel)",
   "language": "python",
   "name": "python3"
  },
  "language_info": {
   "codemirror_mode": {
    "name": "ipython",
    "version": 3
   },
   "file_extension": ".py",
   "mimetype": "text/x-python",
   "name": "python",
   "nbconvert_exporter": "python",
   "pygments_lexer": "ipython3",
   "version": "3.11.2"
  }
 },
 "nbformat": 4,
 "nbformat_minor": 5
}
