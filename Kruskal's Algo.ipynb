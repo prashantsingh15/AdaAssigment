{
 "cells": [
  {
   "cell_type": "markdown",
   "id": "d7d8b2bc",
   "metadata": {},
   "source": [
    "write a program for minimum spanning trees using Kruskal's algorithm ?\n",
    "Ans -- Hence the total weight is 19 ,[(4, 2, 3), (5, 0, 3), (10, 0, 1)]. and the time complexity of my code is O(E log E) or O(E log V), which is smaller ."
   ]
  },
  {
   "cell_type": "code",
   "execution_count": 2,
   "id": "c2a9415b",
   "metadata": {},
   "outputs": [
    {
     "name": "stdout",
     "output_type": "stream",
     "text": [
      "[(4, 2, 3), (5, 0, 3), (10, 0, 1)]\n"
     ]
    }
   ],
   "source": [
    "from collections import defaultdict\n",
    "\n",
    "class Graph:\n",
    "    def __init__(self, vertices):\n",
    "        self.V = vertices\n",
    "        self.edges = []\n",
    "        self.parent = {i:i for i in range(vertices)}\n",
    "        self.rank = defaultdict(int)\n",
    "    \n",
    "    def add_edge(self, u, v, w):\n",
    "        self.edges.append((w, u, v))\n",
    "    \n",
    "    def find(self, v):\n",
    "        if self.parent[v] != v:\n",
    "            self.parent[v] = self.find(self.parent[v])\n",
    "        return self.parent[v]\n",
    "    \n",
    "    def union(self, u, v):\n",
    "        u_root = self.find(u)\n",
    "        v_root = self.find(v)\n",
    "        if u_root == v_root:\n",
    "            return\n",
    "        if self.rank[u_root] > self.rank[v_root]:\n",
    "            self.parent[v_root] = u_root\n",
    "        elif self.rank[u_root] < self.rank[v_root]:\n",
    "            self.parent[u_root] = v_root\n",
    "        else:\n",
    "            self.parent[v_root] = u_root\n",
    "            self.rank[u_root] += 1\n",
    "    \n",
    "    def kruskal_mst(self):\n",
    "        self.edges.sort()\n",
    "        mst = []\n",
    "        for edge in self.edges:\n",
    "            w, u, v = edge\n",
    "            if self.find(u) != self.find(v):\n",
    "                mst.append(edge)\n",
    "                self.union(u, v)\n",
    "        return mst\n",
    "    \n",
    "    \n",
    "    \n",
    "g = Graph(4)\n",
    "g.add_edge(0, 1, 10)\n",
    "g.add_edge(0, 2, 6)\n",
    "g.add_edge(0, 3, 5)\n",
    "g.add_edge(1, 3, 15)\n",
    "g.add_edge(2, 3, 4)\n",
    "mst = g.kruskal_mst()\n",
    "print(mst)\n",
    "    \n",
    "\n"
   ]
  }
 ],
 "metadata": {
  "kernelspec": {
   "display_name": "Python 3 (ipykernel)",
   "language": "python",
   "name": "python3"
  },
  "language_info": {
   "codemirror_mode": {
    "name": "ipython",
    "version": 3
   },
   "file_extension": ".py",
   "mimetype": "text/x-python",
   "name": "python",
   "nbconvert_exporter": "python",
   "pygments_lexer": "ipython3",
   "version": "3.11.2"
  }
 },
 "nbformat": 4,
 "nbformat_minor": 5
}
