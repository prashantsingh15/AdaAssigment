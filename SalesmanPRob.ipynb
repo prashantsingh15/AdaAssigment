{
 "cells": [
  {
   "cell_type": "code",
   "execution_count": 2,
   "id": "ddae5eff",
   "metadata": {},
   "outputs": [
    {
     "name": "stdout",
     "output_type": "stream",
     "text": [
      "Minimum cost: 80\n"
     ]
    }
   ],
   "source": [
    "import sys\n",
    "\n",
    "def tsp(graph):\n",
    "    n = len(graph)\n",
    "    all_sets = (1 << n) - 1\n",
    "    memo = {}\n",
    "\n",
    "    def dp(curr, visited):\n",
    "        if visited == all_sets:\n",
    "            return graph[curr][0]\n",
    "        if (curr, visited) in memo:\n",
    "            return memo[(curr, visited)]\n",
    "\n",
    "        min_cost = sys.maxsize\n",
    "        for next_city in range(n):\n",
    "            if visited & (1 << next_city) == 0:\n",
    "                cost = graph[curr][next_city] + dp(next_city, visited | (1 << next_city))\n",
    "                min_cost = min(min_cost, cost)\n",
    "\n",
    "        memo[(curr, visited)] = min_cost\n",
    "        return min_cost\n",
    "\n",
    "    return dp(0, 1)\n",
    "\n",
    "\n",
    "graph = [\n",
    "    [0, 10, 15, 20],\n",
    "    [10, 0, 35, 25],\n",
    "    [15, 35, 0, 30],\n",
    "    [20, 25, 30, 0]\n",
    "]\n",
    "\n",
    "\n",
    "print(\"Minimum cost:\", tsp(graph))\n"
   ]
  }
 ],
 "metadata": {
  "kernelspec": {
   "display_name": "Python 3 (ipykernel)",
   "language": "python",
   "name": "python3"
  },
  "language_info": {
   "codemirror_mode": {
    "name": "ipython",
    "version": 3
   },
   "file_extension": ".py",
   "mimetype": "text/x-python",
   "name": "python",
   "nbconvert_exporter": "python",
   "pygments_lexer": "ipython3",
   "version": "3.11.2"
  }
 },
 "nbformat": 4,
 "nbformat_minor": 5
}
