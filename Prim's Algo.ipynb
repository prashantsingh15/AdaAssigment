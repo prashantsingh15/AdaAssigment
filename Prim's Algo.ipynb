{
 "cells": [
  {
   "cell_type": "markdown",
   "id": "9d693fe4",
   "metadata": {},
   "source": [
    "write a program for minimum spanning trees using prims algorihtm .\n",
    "\n",
    "O(E log V), where E is the number of edges and V is the number of vertices in the graph."
   ]
  },
  {
   "cell_type": "code",
   "execution_count": 1,
   "id": "a1a3677d",
   "metadata": {},
   "outputs": [
    {
     "name": "stdout",
     "output_type": "stream",
     "text": [
      "[(2, 0, 1), (3, 1, 2), (4, 0, 3), (4, 1, 4), (5, 2, 5)]\n",
      "18\n"
     ]
    }
   ],
   "source": [
    "import heapq\n",
    "\n",
    "def prim(graph):\n",
    "    \n",
    "    visited = set()\n",
    "    pq = []\n",
    "    \n",
    "    \n",
    "    start_vertex = 0\n",
    "    \n",
    "   \n",
    "    for edge in graph[start_vertex]:\n",
    "        heapq.heappush(pq, edge)\n",
    "    \n",
    "   \n",
    "    visited.add(start_vertex)\n",
    "    \n",
    "   \n",
    "    mst = []\n",
    "    total_weight = 0\n",
    "    \n",
    "    \n",
    "    while pq:\n",
    "        \n",
    "        weight, u, v = heapq.heappop(pq)\n",
    "        \n",
    "       \n",
    "        if u in visited and v in visited:\n",
    "            continue\n",
    "        \n",
    "       \n",
    "        mst.append((weight, u, v))\n",
    "        total_weight += weight\n",
    "        \n",
    "       \n",
    "        if u not in visited:\n",
    "            visited.add(u)\n",
    "            \n",
    "            for edge in graph[u]:\n",
    "                heapq.heappush(pq, edge)\n",
    "        if v not in visited:\n",
    "            visited.add(v)\n",
    "            \n",
    "            for edge in graph[v]:\n",
    "                heapq.heappush(pq, edge)\n",
    "    \n",
    "   \n",
    "    return mst, total_weight\n",
    "\n",
    "\n",
    "\n",
    "\n",
    "graph = {\n",
    "    0: [(2, 0, 1), (4, 0, 3)],\n",
    "    1: [(2, 0, 1), (3, 1, 2), (4, 1, 4)],\n",
    "    2: [(3, 1, 2), (5, 2, 5)],\n",
    "    3: [(4, 0, 3), (5, 3, 4)],\n",
    "    4: [(4, 1, 4), (5, 3, 4), (5, 4, 5)],\n",
    "    5: [(5, 2, 5), (5, 4, 5)]\n",
    "}\n",
    "\n",
    "\n",
    "mst, total_weight = prim(graph)\n",
    "print(mst)\n",
    "print(total_weight)\n",
    "\n"
   ]
  },
  {
   "cell_type": "code",
   "execution_count": null,
   "id": "b83a9ad7",
   "metadata": {},
   "outputs": [],
   "source": []
  }
 ],
 "metadata": {
  "kernelspec": {
   "display_name": "Python 3 (ipykernel)",
   "language": "python",
   "name": "python3"
  },
  "language_info": {
   "codemirror_mode": {
    "name": "ipython",
    "version": 3
   },
   "file_extension": ".py",
   "mimetype": "text/x-python",
   "name": "python",
   "nbconvert_exporter": "python",
   "pygments_lexer": "ipython3",
   "version": "3.11.2"
  }
 },
 "nbformat": 4,
 "nbformat_minor": 5
}
